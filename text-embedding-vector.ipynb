{
 "cells": [
  {
   "cell_type": "markdown",
   "metadata": {},
   "source": [
    "# Samples for Vertex AI Vector Search"
   ]
  },
  {
   "cell_type": "markdown",
   "metadata": {},
   "source": [
    "### Chat bot scenario - Using User questions to determine service category\n",
    "\n",
    "reference https://github.com/GoogleCloudPlatform/generative-ai/blob/main/embeddings/intro-textemb-vectorsearch.ipynb"
   ]
  },
  {
   "cell_type": "markdown",
   "metadata": {},
   "source": [
    "#### Generate test data\n",
    "List of json formatted input \n",
    "\n",
    "```\n",
    "{ 'qn':'I would like to change my delivery date', 'cat': '1'},\n",
    "{ 'qn': 'change delivery address', 'cat': '1'},\n",
    "{ 'qn': 'I would like to delay the delivery as I will be away', 'cat': '1'},\n",
    "{ 'qn': 'Can I check the status of order #12345? it has been a while', 'cat': '2'},\n",
    "{ 'qn': 'How long will order #483746 take? it has been 3 weeks since i ordered', 'cat': '2'},\n",
    "{ 'qn': 'I would like to check my order status, the order number is 234555', 'cat': '2'},\n",
    "{ 'qn': 'Can i get a refund , the product is defective', 'cat': '3'},\n",
    "{ 'qn': 'What is the return process for a spoilt item?', 'cat': '3'},\n",
    "{ 'qn': 'I got a wrong order, how do i do an exchange?', 'cat': '3'},\n",
    "{ 'qn': 'The items i received is totally not working, please give me a refund', 'cat': '3'}\n",
    "```\n"
   ]
  },
  {
   "cell_type": "code",
   "execution_count": 7,
   "metadata": {
    "tags": []
   },
   "outputs": [],
   "source": [
    "import pandas as pd\n",
    "from typing import List, Optional\n"
   ]
  },
  {
   "cell_type": "code",
   "execution_count": 8,
   "metadata": {
    "tags": []
   },
   "outputs": [
    {
     "name": "stdout",
     "output_type": "stream",
     "text": [
      "[<bound method IndexOpsMixin.tolist of 0              I would like to change my delivery date\n",
      "1                              change delivery address\n",
      "2    I would like to delay the delivery as I will b...\n",
      "3    Can I check the status of order #12345? it has...\n",
      "4    How long will order #483746 take? it has been ...\n",
      "5    I would like to check my order status, the ord...\n",
      "6        Can i get a refund , the product is defective\n",
      "7        What is the return process for a spoilt item?\n",
      "8        I got a wrong order, how do i do an exchange?\n",
      "9    The items i received is totally not working, p...\n",
      "Name: qn, dtype: object>]\n"
     ]
    }
   ],
   "source": [
    "# load jsonl file \n",
    "jsonObj = pd.read_json(path_or_buf=\"questions-categories.jsonl\", lines=True)\n",
    "#print(jsonObj.qn[0])\n",
    "#print(jsonObj.qn.to_string(index=False))\n",
    "texts: List[str] = [jsonObj.qn.tolist]\n",
    "print(texts)\n",
    "\n"
   ]
  },
  {
   "cell_type": "code",
   "execution_count": 11,
   "metadata": {
    "tags": []
   },
   "outputs": [],
   "source": [
    "# sandbox-project-1673797795\n",
    "# init the vertexai package\n",
    "import vertexai\n",
    "PROJECT_ID=\"sandbox-project-1673797795\"\n",
    "LOCATION=\"asia-southeast1\"\n",
    "vertexai.init(project=PROJECT_ID, location=LOCATION, service_account=\"953640930424-compute@developer.gserviceaccount.com\")\n"
   ]
  },
  {
   "cell_type": "code",
   "execution_count": 18,
   "metadata": {
    "tags": []
   },
   "outputs": [],
   "source": [
    "# @title { run: \"auto\" }\n",
    "MODEL = \"text-embedding-004\"  # @param [\"text-embedding-004\", \"text-multilingual-embedding-002\",\"text-embedding-preview-0409\", \"text-multilingual-embedding-preview-0409\", \"textembedding-gecko@003\", \"textembedding-gecko-multilingual@001\"]\n",
    "TASK = \"RETRIEVAL_DOCUMENT\"  # @param [\"RETRIEVAL_QUERY\", \"RETRIEVAL_DOCUMENT\", \"SEMANTIC_SIMILARITY\", \"CLASSIFICATION\", \"CLUSTERING\", \"QUESTION_ANSWERING\", \"FACT_VERIFICATION\"]\n",
    "TEXT = \"Banana Muffin?\"  # @param {type:\"string\"}\n",
    "TEXT = texts\n",
    "TITLE = \"\"  # @param {type:\"string\"}\n",
    "OUTPUT_DIMENSIONALITY = 256  # @param [1, 768, \"None\"] {type:\"raw\", allow-input:true}\n",
    "\n",
    "if not MODEL:\n",
    "    raise ValueError(\"MODEL must be specified.\")\n",
    "if not TEXT:\n",
    "    raise ValueError(\"TEXT must be specified.\")\n",
    "if TITLE and TASK != \"RETRIEVAL_DOCUMENT\":\n",
    "    raise ValueError(\"TITLE can only be specified for TASK 'RETRIEVAL_DOCUMENT'\")\n",
    "if OUTPUT_DIMENSIONALITY is not None and MODEL not in [\n",
    "    \"text-embedding-004\",\n",
    "    \"text-multilingual-embedding-002\",\n",
    "    \"text-embedding-preview-0409\",\n",
    "    \"text-multilingual-embedding-preview-0409\",\n",
    "]:\n",
    "    raise ValueError(f\"OUTPUT_DIMENTIONALITY cannot be specified for model '{MODEL}'.\")\n",
    "if TASK in [\"QUESTION_ANSWERING\", \"FACT_VERIFICATION\"] and MODEL not in [\n",
    "    \"text-embedding-004\",\n",
    "    \"text-multilingual-embedding-002\",\n",
    "    \"text-embedding-preview-0409\",\n",
    "    \"text-multilingual-embedding-preview-0409\",\n",
    "]:\n",
    "    raise ValueError(f\"TASK '{TASK}' is not valid for model '{MODEL}'.\")"
   ]
  },
  {
   "cell_type": "code",
   "execution_count": 26,
   "metadata": {
    "tags": []
   },
   "outputs": [
    {
     "name": "stdout",
     "output_type": "stream",
     "text": [
      "[<bound method IndexOpsMixin.tolist of 0              I would like to change my delivery date\n",
      "1                              change delivery address\n",
      "2    I would like to delay the delivery as I will b...\n",
      "3    Can I check the status of order #12345? it has...\n",
      "4    How long will order #483746 take? it has been ...\n",
      "5    I would like to check my order status, the ord...\n",
      "6        Can i get a refund , the product is defective\n",
      "7        What is the return process for a spoilt item?\n",
      "8        I got a wrong order, how do i do an exchange?\n",
      "9    The items i received is totally not working, p...\n",
      "Name: qn, dtype: object>]\n",
      "I would like to change my delivery date\n",
      "[0.022888263687491417, 0.002359802136197686, 0.0019464048091322184, -0.011447086930274963, 0.004758581519126892, -0.016411660239100456, -0.01941780373454094, 0.0016531210858374834, 0.013646667823195457, 0.008857974782586098, 0.00420465087518096, 0.04343574121594429, 0.07413917779922485, 0.013336907140910625, -0.04980216547846794, -0.04456538334488869, 0.014293785206973553, -0.0002501080452930182, -0.07384733855724335, 0.01811334863305092, 0.019002117216587067, 0.022244105115532875, 0.04856928810477257, 0.014424199238419533, 0.03172623738646507, -0.0005261703627184033, -0.0290804635733366, 0.01755755953490734, -0.021785758435726166, -0.048257093876600266, 0.055807359516620636, 0.05799030512571335, -0.028103986755013466, -0.048120077699422836, 0.050296854227781296, 0.042427774518728256, -0.009591996669769287, -0.012760298326611519, 0.040991444140672684, -0.05956294760107994, -0.05797729268670082, 0.04345434531569481, -0.0011506727896630764, 0.0368124395608902, 0.01101238839328289, -0.002639367012307048, -0.04839538782835007, 0.05145563557744026, -0.01506984792649746, 0.03448709100484848, 0.011784883216023445, 0.01362112257629633, -0.02062005177140236, -0.007746943272650242, -0.051443666219711304, -0.019485199823975563, -0.06209398806095123, -0.028813814744353294, 0.006572021637111902, 0.0029941617976874113, 0.02103244885802269, -0.0021440554410219193, 0.009751152247190475, -0.025532513856887817, 0.025248611345887184, -0.04841410741209984, 0.016335489228367805, 0.00930306501686573, -0.061570215970277786, 0.014842450618743896, 0.037706486880779266, 0.031572673469781876, -0.018935808911919594, -0.03152165189385414, 0.03156823292374611, -0.0564255528151989, 0.019876934587955475, -0.017435437068343163, 0.009032987989485264, 0.03359575569629669, 0.0216643288731575, 0.06495097279548645, 0.06595057249069214, 0.03368569537997246, 0.017049157992005348, -0.010275430977344513, 0.019729483872652054, -0.03883261978626251, -0.07916638255119324, -0.021612634882330894, 0.049045298248529434, 0.027023063972592354, 0.02673177607357502, 0.003743784734979272, 0.07735005766153336, -0.013034490868449211, -0.10825876891613007, -0.08068612962961197, 0.04738398268818855, 0.004022715147584677, -0.00892135500907898, 0.01737072691321373, -0.005444675218313932, -0.10663722455501556, 0.03902806341648102, -0.009837718680500984, -0.06021730974316597, -0.03990583121776581, -0.019733652472496033, 0.034662459045648575, -0.04478543996810913, -0.039320677518844604, -0.011790793389081955, 0.03239554539322853, -0.045568548142910004, 0.03495757654309273, -0.0021273649763315916, -0.0034330093767493963, -0.05306372418999672, 0.029025226831436157, 0.017284827306866646, -0.01981312595307827, -0.019782820716500282, 0.09083010256290436, 0.0516098290681839, 0.01834046095609665, 0.0329766683280468, 0.030420569702982903, -0.0782422125339508, -0.039217349141836166, 0.07253000885248184, -0.04459021985530853, 0.010532796382904053, -0.012518823146820068, -0.03314897045493126, -0.03912102058529854, 0.017967453226447105, -0.05421070009469986, 0.021812308579683304, 0.03320429101586342, -0.003475826233625412, -0.030349530279636383, -0.05137414485216141, 0.03217611461877823, -0.028696535155177116, -0.0037138760089874268, -0.0014605411561205983, 0.06732692569494247, -0.06661750376224518, 0.059932295233011246, -0.05097944661974907, -0.040874022990465164, 0.06913366913795471, -0.04591693729162216, 0.022243160754442215, -0.02529112808406353, 0.024403534829616547, -0.048968374729156494, 0.07664883881807327, 0.0022349075879901648, 0.03744987025856972, -0.0871737077832222, 0.010323376394808292, -0.006795795634388924, -0.03915437310934067, 0.040943291038274765, 0.020718641579151154, -0.040430545806884766, 0.015772303566336632, 0.008409452624619007, -0.0375698059797287, -0.031797848641872406, 0.01906236819922924, -0.14116789400577545, -0.008173765614628792, 0.03456662967801094, -0.007329830899834633, -0.056365080177783966, -0.012362164445221424, 0.0448695570230484, 0.1259649693965912, 0.03953023999929428, -0.04731981083750725, -0.015175665728747845, 0.04143178462982178, -0.01876261830329895, -0.0006503581535071135, 0.0022871107794344425, 0.025033842772245407, 0.04219565540552139, 0.0070688496343791485, 0.013591782189905643, -0.05450363829731941, 0.07358585298061371, -0.004104795400053263, -0.002192980144172907, -0.0266045480966568, 0.01589621976017952, -0.0052931890822947025, -0.07536569237709045, 0.06741897761821747, 0.047192614525556564, -0.03523103892803192, 0.011148592457175255, -0.0001996034843614325, 0.03417785465717316, -0.04377526044845581, -0.055983059108257294, 0.003915787674486637, 0.01936272531747818, -0.0256410613656044, 0.02327178232371807, -0.035714492201805115, -0.05035688355565071, 0.06912011653184891, -0.02155764028429985, 0.06667757034301758, 0.014815711416304111, 0.023905931040644646, -0.05889551714062691, 0.025321274995803833, 0.025273891165852547, 0.03253050893545151, -0.003261611331254244, -0.001107498537749052, -0.006166272331029177, -0.10297967493534088, 0.017367122694849968, 0.0025812555104494095, -0.06410803645849228, -0.007703195326030254, 0.013569862581789494, -0.012992192059755325, 0.036066122353076935, -0.048014674335718155, 0.05400485172867775, 0.028873126953840256, -0.055652275681495667, -0.03178559988737106, -0.013679025694727898, -0.0065378001891076565, 0.022508684545755386, 0.07212955504655838, 0.014666798524558544, -0.0015569814713671803, -0.03930420055985451, 0.04262964800000191, 0.05938876420259476, -0.011408365331590176, -0.026567187160253525, -0.0012906476622447371, -0.016922850161790848, 0.08064059913158417, -0.06217806041240692, -0.035643596202135086, -0.0380622036755085]\n",
      "256\n"
     ]
    }
   ],
   "source": [
    "from vertexai.language_models import TextEmbeddingInput, TextEmbeddingModel\n",
    "\n",
    "\n",
    "def embed_text(\n",
    "    model_name: str,\n",
    "    task_type: str,\n",
    "    text: str,\n",
    "    title: str = \"\",\n",
    "    output_dimensionality=None,\n",
    ") -> list:\n",
    "    \"\"\"Generates a text embedding with a Large Language Model.\"\"\"\n",
    "    model = TextEmbeddingModel.from_pretrained(model_name)\n",
    "    text_embedding_input = TextEmbeddingInput(\n",
    "        task_type=task_type, title=title, text=text\n",
    "    )\n",
    "    kwargs = (\n",
    "        dict(output_dimensionality=output_dimensionality)\n",
    "        if output_dimensionality\n",
    "        else {}\n",
    "    )\n",
    "    embeddings = model.get_embeddings([text_embedding_input], **kwargs)\n",
    "    return embeddings[0].values\n",
    "\n",
    "\n",
    "# Get a text embedding for a downstream task.\n",
    "print(TEXT)\n",
    "t = 'I would like to change my delivery date'\n",
    "print(t)\n",
    "embedding = embed_text(\n",
    "    model_name=MODEL,\n",
    "    task_type=TASK,\n",
    "    text=t,\n",
    "    title=TITLE,\n",
    "    output_dimensionality=OUTPUT_DIMENSIONALITY,\n",
    ")\n",
    "print(embedding)\n",
    "print(len(embedding))  # Expected value: {OUTPUT_DIMENSIONALITY}."
   ]
  },
  {
   "cell_type": "code",
   "execution_count": null,
   "metadata": {},
   "outputs": [],
   "source": []
  }
 ],
 "metadata": {
  "environment": {
   "kernel": "python3",
   "name": "common-cu121.m121",
   "type": "gcloud",
   "uri": "us-docker.pkg.dev/deeplearning-platform-release/gcr.io/base-cu121:m121"
  },
  "kernelspec": {
   "display_name": "Python 3 (Local)",
   "language": "python",
   "name": "python3"
  },
  "language_info": {
   "codemirror_mode": {
    "name": "ipython",
    "version": 3
   },
   "file_extension": ".py",
   "mimetype": "text/x-python",
   "name": "python",
   "nbconvert_exporter": "python",
   "pygments_lexer": "ipython3",
   "version": "3.10.14"
  }
 },
 "nbformat": 4,
 "nbformat_minor": 4
}
